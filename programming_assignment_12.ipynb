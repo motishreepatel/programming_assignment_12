{
 "cells": [
  {
   "cell_type": "code",
   "execution_count": 4,
   "metadata": {},
   "outputs": [
    {
     "name": "stdout",
     "output_type": "stream",
     "text": [
      "Unique dictionary values are:  {40, 10, 20, 30}\n"
     ]
    }
   ],
   "source": [
    "#Q - 1. Write a Python program to Extract Unique values dictionary values?\n",
    "#Answer:\n",
    "dict = {'a':10,'b':20,'c':30,'d':40,'e':20}\n",
    "dict_values = set(dict.values()) #set gives unique values\n",
    "print(\"Unique dictionary values are: \",dict_values )"
   ]
  },
  {
   "cell_type": "code",
   "execution_count": 13,
   "metadata": {},
   "outputs": [
    {
     "name": "stdout",
     "output_type": "stream",
     "text": [
      "sum of all items of dict is 46\n"
     ]
    }
   ],
   "source": [
    "#Q - 2. Write a Python program to find the sum of all items in a dictionary?\n",
    "#Answer:\n",
    "def sum_of_dict_items(dict):\n",
    "    sum = 0\n",
    "    for i in dict.values():\n",
    "        sum = sum + i\n",
    "    return sum\n",
    "\n",
    "dict1 = {'a':12,'b':23,'c':11}\n",
    "print(\"sum of all items of dict is\", sum_of_dict_items(dict1))\n",
    "\n"
   ]
  },
  {
   "cell_type": "code",
   "execution_count": 14,
   "metadata": {},
   "outputs": [
    {
     "name": "stdout",
     "output_type": "stream",
     "text": [
      "{'a': 2, 'b': 4, 'c': 5, 'd': 7}\n"
     ]
    }
   ],
   "source": [
    "#Q - 3. Write a Python program to Merging two Dictionaries?\n",
    "#Answer:\n",
    "#We can do this in two ways:\n",
    "#Type1\n",
    "def merge_two_dict(dict1,dict2):\n",
    "    merged_dict = dict1.copy()\n",
    "    merged_dict.update(dict2)\n",
    "    return merged_dict\n",
    "\n",
    "dict1 = {'a':2,'b':4}\n",
    "dict2 = {'c':5,'d':7}\n",
    "print(merge_two_dict(dict1,dict2))"
   ]
  },
  {
   "cell_type": "code",
   "execution_count": 16,
   "metadata": {},
   "outputs": [
    {
     "name": "stdout",
     "output_type": "stream",
     "text": [
      "{'a': 8, 'b': 10, 'g': 78, 'h': 90}\n"
     ]
    }
   ],
   "source": [
    "#Type2\n",
    "def merge_two_dict(dict1,dict2):\n",
    "    merged_dict = {**dict1,**dict2}\n",
    "    return merged_dict\n",
    "\n",
    "dict1 = {'a':8,'b':10}\n",
    "dict2 = {'g':78,'h':90}\n",
    "print(merge_two_dict(dict1,dict2))"
   ]
  },
  {
   "cell_type": "code",
   "execution_count": 17,
   "metadata": {},
   "outputs": [
    {
     "name": "stdout",
     "output_type": "stream",
     "text": [
      "{'a': 1, 'b': 2, 'c': 3, 'd': 4}\n"
     ]
    }
   ],
   "source": [
    "#Q - 4. Write a Python program to convert key-values list to flat dictionary?\n",
    "#Answer:\n",
    "def list_to_dict(key_value_list):\n",
    "    flat_dict = {key:value for (key,value) in key_value_list}\n",
    "    return flat_dict\n",
    "\n",
    "key_value_list = [('a',1),('b',2),('c',3),('d',4)]\n",
    "print(list_to_dict(key_value_list))"
   ]
  },
  {
   "cell_type": "code",
   "execution_count": 19,
   "metadata": {},
   "outputs": [
    {
     "name": "stdout",
     "output_type": "stream",
     "text": [
      "Initial ordered dict OrderedDict([('a', 1), ('b', 2), ('c', 3)])\n",
      "Ordereddict after insertion at the beginning OrderedDict([('x', 90), ('a', 1), ('b', 2), ('c', 3)])\n"
     ]
    }
   ],
   "source": [
    "#Q - 5. Write a Python program to insertion at the beginning in OrderedDict?\n",
    "#Answer:\n",
    "from collections import OrderedDict\n",
    "\n",
    "def insert_in_orderedDict(ordered_dict,key,value):\n",
    "    ordered_dict[key] = value\n",
    "    ordered_dict.move_to_end(key, last=False) #last=False because we are adding at the beginning\n",
    "\n",
    "ordered_dict = OrderedDict([('a',1),('b',2),('c',3)])\n",
    "print(\"Initial ordered dict\",ordered_dict)\n",
    "\n",
    "insert_in_orderedDict(ordered_dict, 'x',90)\n",
    "print(\"Ordereddict after insertion at the beginning\",ordered_dict)\n",
    "\n"
   ]
  },
  {
   "cell_type": "code",
   "execution_count": 20,
   "metadata": {},
   "outputs": [
    {
     "name": "stdout",
     "output_type": "stream",
     "text": [
      "Characters are not in order in the string.\n"
     ]
    }
   ],
   "source": [
    "#Q - 6. Write a Python program to check order of character in string using OrderedDict()?\n",
    "#Answer:\n",
    "from collections import OrderedDict\n",
    "\n",
    "def check_order_of_characters(string):\n",
    "    ordered_dict = OrderedDict.fromkeys(string)\n",
    "    return ''.join(ordered_dict.keys()) == string\n",
    "\n",
    "# Example usage\n",
    "input_string = \"Hi Good Morning!\"\n",
    "order_check = check_order_of_characters(input_string)\n",
    "\n",
    "if order_check:\n",
    "    print(\"Characters are in order in the string.\")\n",
    "else:\n",
    "    print(\"Characters are not in order in the string.\")"
   ]
  },
  {
   "cell_type": "code",
   "execution_count": 22,
   "metadata": {},
   "outputs": [
    {
     "ename": "TypeError",
     "evalue": "'dict' object is not callable",
     "output_type": "error",
     "traceback": [
      "\u001b[0;31m---------------------------------------------------------------------------\u001b[0m",
      "\u001b[0;31mTypeError\u001b[0m                                 Traceback (most recent call last)",
      "Cell \u001b[0;32mIn[22], line 14\u001b[0m\n\u001b[1;32m     11\u001b[0m \u001b[38;5;66;03m# Example usage\u001b[39;00m\n\u001b[1;32m     12\u001b[0m my_dict \u001b[38;5;241m=\u001b[39m {\u001b[38;5;124m'\u001b[39m\u001b[38;5;124mc\u001b[39m\u001b[38;5;124m'\u001b[39m: \u001b[38;5;241m3\u001b[39m, \u001b[38;5;124m'\u001b[39m\u001b[38;5;124ma\u001b[39m\u001b[38;5;124m'\u001b[39m: \u001b[38;5;241m1\u001b[39m, \u001b[38;5;124m'\u001b[39m\u001b[38;5;124mb\u001b[39m\u001b[38;5;124m'\u001b[39m: \u001b[38;5;241m2\u001b[39m}\n\u001b[0;32m---> 14\u001b[0m sorted_by_key \u001b[38;5;241m=\u001b[39m \u001b[43msort_dictionary_by_key\u001b[49m\u001b[43m(\u001b[49m\u001b[43mmy_dict\u001b[49m\u001b[43m)\u001b[49m\n\u001b[1;32m     15\u001b[0m \u001b[38;5;28mprint\u001b[39m(\u001b[38;5;124m\"\u001b[39m\u001b[38;5;124mSorted by key:\u001b[39m\u001b[38;5;124m\"\u001b[39m, sorted_by_key)\n\u001b[1;32m     17\u001b[0m sorted_by_value \u001b[38;5;241m=\u001b[39m sort_dictionary_by_value(my_dict)\n",
      "Cell \u001b[0;32mIn[22], line 4\u001b[0m, in \u001b[0;36msort_dictionary_by_key\u001b[0;34m(dictionary)\u001b[0m\n\u001b[1;32m      3\u001b[0m \u001b[38;5;28;01mdef\u001b[39;00m \u001b[38;5;21msort_dictionary_by_key\u001b[39m(dictionary):\n\u001b[0;32m----> 4\u001b[0m     sorted_dict \u001b[38;5;241m=\u001b[39m \u001b[38;5;28;43mdict\u001b[39;49m\u001b[43m(\u001b[49m\u001b[38;5;28;43msorted\u001b[39;49m\u001b[43m(\u001b[49m\u001b[43mdictionary\u001b[49m\u001b[38;5;241;43m.\u001b[39;49m\u001b[43mitems\u001b[49m\u001b[43m(\u001b[49m\u001b[43m)\u001b[49m\u001b[43m)\u001b[49m\u001b[43m)\u001b[49m\n\u001b[1;32m      5\u001b[0m     \u001b[38;5;28;01mreturn\u001b[39;00m sorted_dict\n",
      "\u001b[0;31mTypeError\u001b[0m: 'dict' object is not callable"
     ]
    }
   ],
   "source": [
    "#Q - 7. Write a Python program to sort Python Dictionaries by Key or Value?\n",
    "#Answer:\n",
    "def sort_dictionary_by_key(dictionary):\n",
    "    sorted_dict = dict(sorted(dictionary.items()))\n",
    "    return sorted_dict\n",
    "\n",
    "def sort_dictionary_by_value(dictionary):\n",
    "    sorted_dict = dict(sorted(dictionary.items(), key=lambda x: x[1]))\n",
    "    return sorted_dict\n",
    "\n",
    "# Example usage\n",
    "my_dict = {'c': 3, 'a': 1, 'b': 2}\n",
    "\n",
    "sorted_by_key = sort_dictionary_by_key(my_dict)\n",
    "print(\"Sorted by key:\", sorted_by_key)\n",
    "\n",
    "sorted_by_value = sort_dictionary_by_value(my_dict)\n",
    "print(\"Sorted by value:\", sorted_by_value)"
   ]
  },
  {
   "cell_type": "code",
   "execution_count": null,
   "metadata": {},
   "outputs": [],
   "source": []
  }
 ],
 "metadata": {
  "kernelspec": {
   "display_name": "Python 3.9.6 64-bit",
   "language": "python",
   "name": "python3"
  },
  "language_info": {
   "codemirror_mode": {
    "name": "ipython",
    "version": 3
   },
   "file_extension": ".py",
   "mimetype": "text/x-python",
   "name": "python",
   "nbconvert_exporter": "python",
   "pygments_lexer": "ipython3",
   "version": "3.9.6"
  },
  "orig_nbformat": 4,
  "vscode": {
   "interpreter": {
    "hash": "31f2aee4e71d21fbe5cf8b01ff0e069b9275f58929596ceb00d14d90e3e16cd6"
   }
  }
 },
 "nbformat": 4,
 "nbformat_minor": 2
}
